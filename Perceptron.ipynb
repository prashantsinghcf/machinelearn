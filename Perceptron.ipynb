{
  "nbformat": 4,
  "nbformat_minor": 0,
  "metadata": {
    "colab": {
      "name": "Perceptron.ipynb",
      "provenance": [],
      "include_colab_link": true
    },
    "kernelspec": {
      "name": "python3",
      "display_name": "Python 3"
    }
  },
  "cells": [
    {
      "cell_type": "markdown",
      "metadata": {
        "id": "view-in-github",
        "colab_type": "text"
      },
      "source": [
        "<a href=\"https://colab.research.google.com/github/Priyanshichopra/Machine-Learning-Lab/blob/master/Perceptron.ipynb\" target=\"_parent\"><img src=\"https://colab.research.google.com/assets/colab-badge.svg\" alt=\"Open In Colab\"/></a>"
      ]
    },
    {
      "cell_type": "code",
      "metadata": {
        "id": "-YRbMLttFurZ",
        "colab_type": "code",
        "outputId": "93a31e68-dd0d-472e-89bb-924f0cc3a69c",
        "colab": {
          "base_uri": "https://localhost:8080/",
          "height": 34
        }
      },
      "source": [
        "\n",
        "import numpy as np\n",
        "\n",
        "class perceptron(object):\n",
        "    def __init__(self,size,lr=1,epochs=100):\n",
        "        self.w=np.zeros(size+1)\n",
        "        self.lr=lr\n",
        "        self.epochs=epochs\n",
        "    def fit(self,X,Y):\n",
        "        for i in range(self.epochs):\n",
        "            for j in range(Y.shape[0]):\n",
        "                x=np.insert(X[j],0,1)\n",
        "                y=self.predict(x)\n",
        "                e=Y[j]-y\n",
        "                self.w=self.w+self.lr*e*x\n",
        "    def predict(self,x):\n",
        "        z=self.w.T.dot(x)\n",
        "        a=self.act(z)\n",
        "        return a\n",
        "    def act(self,z):\n",
        "        if z>=0:\n",
        "            return 1\n",
        "        return 0\n",
        "\n",
        "X=np.array([[0,0],[0,1],[1,0],[1,1]])\n",
        "Y=np.array([0,1,1,0])\n",
        "\n",
        "obj=perceptron(size=2)\n",
        "obj.fit(X,Y)\n",
        "print(obj.w)\n",
        "\n"
      ],
      "execution_count": 0,
      "outputs": [
        {
          "output_type": "stream",
          "text": [
            "[ 0. -1.  0.]\n"
          ],
          "name": "stdout"
        }
      ]
    }
  ]
}